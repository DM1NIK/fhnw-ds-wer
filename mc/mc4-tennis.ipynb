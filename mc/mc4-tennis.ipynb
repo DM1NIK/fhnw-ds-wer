{
 "cells": [
  {
   "cell_type": "markdown",
   "source": [
    "## Sub-Challenge 2 (Pseudozufallszahl)\n",
    "Erzeugen Sie in Python eine Funktion, die als Argument eine Wahrscheinlichkeit p einliest und als Ergebnis eine Zufallszahl mit den Werten 0 und 1 ausgibt, so dass die Wahrscheinlichkeit f¨ur eine 1 gerade p ist."
   ],
   "metadata": {
    "collapsed": false
   }
  },
  {
   "cell_type": "code",
   "execution_count": 26,
   "outputs": [
    {
     "name": "stdout",
     "output_type": "stream",
     "text": [
      "[0.700359, 0.699785, 0.700394, 0.699747, 0.699792, 0.700814, 0.700506, 0.699651, 0.698268, 0.70043]\n"
     ]
    }
   ],
   "source": [
    "import random\n",
    "\n",
    "def gen(p):\n",
    "    if random.random() < p:\n",
    "        return 1\n",
    "    else:\n",
    "        return 0\n",
    "\n",
    "n = 10 ** 6\n",
    "print([sum([gen(0.7) for _ in range(10**6)]) / n for _ in range(10)])"
   ],
   "metadata": {
    "collapsed": false
   }
  }
 ],
 "metadata": {
  "kernelspec": {
   "display_name": "Python 3",
   "language": "python",
   "name": "python3"
  },
  "language_info": {
   "codemirror_mode": {
    "name": "ipython",
    "version": 2
   },
   "file_extension": ".py",
   "mimetype": "text/x-python",
   "name": "python",
   "nbconvert_exporter": "python",
   "pygments_lexer": "ipython2",
   "version": "2.7.6"
  }
 },
 "nbformat": 4,
 "nbformat_minor": 0
}
